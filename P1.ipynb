{
 "cells": [
  {
   "cell_type": "code",
   "execution_count": null,
   "metadata": {},
   "outputs": [],
   "source": [
    "# Run this cell to log in to okpy.org so that you can submit\n",
    "# at the end of the lab.\n",
    "from client.api.notebook import Notebook\n",
    "ok = Notebook('p1.ok')\n",
    "_ = ok.auth(inline=True)"
   ]
  },
  {
   "cell_type": "markdown",
   "metadata": {},
   "source": [
    "# Program 1: Let's Go to the Moon\n",
    "\n",
    "Just over 50 years ago, on July 21, 1969, the first person in human history set\n",
    "food on a planetary body other than our own. The Apollo 11 mission carried three\n",
    "humans 238,856 miles from Earth, and, while Michael Collins orbited above, Neil\n",
    "Armstrong and Buzz Aldrin landed upon and walked on the Moon.\n",
    "\n",
    "Nearly everything that went into achieving this feat required novel,\n",
    "groundbreaking work. For instance, all Apollo missions were almost entirely flown\n",
    "by autopilot: the [Apollo Guidance\n",
    "Computer](https://en.wikipedia.org/wiki/Apollo_Guidance_Computer). The AGC had a\n",
    "2.048 MHz processor, 4096 bytes of RAM, and ~72 KB of storage--the numbers are\n",
    "unimportant. Your phone is thousands of times more powerful.\n",
    "\n",
    "As an aside, the lead engineer responsible for developing \n",
    "the flight control systems that flew the Apollo spacecraft was [Dr. Margaret\n",
    "Hamilton](https://en.wikipedia.org/wiki/Margaret_Hamilton_(software_engineer)),\n",
    "one of the most important computer scientists in the history of our field.\n",
    "The picture below is her standing next to the listings of her code that ran the AGC.\n",
    "\n",
    "<img src=\"https://storage.googleapis.com/141-files/margaret-hamilton-code.jpg\" width=600/>\n",
    "<!--\n",
    "<img src=\"https://storage.googleapis.com/141-files/margaret-hamilton-module.jpg\" width=600/>\n",
    "-->\n",
    "\n",
    "The Apollo program was one of humankinds most impressive technical achivements.\n",
    "But, beyond this, it provided us with an [opportunity for\n",
    "humility](https://www.youtube.com/watch?v=wupToqz1e2g)--an opportunity to see,\n",
    "from a distance, how very, very small our home is--the place where every single\n",
    "human being lived and called home.\n",
    "\n",
    "<img src=\"https://storage.googleapis.com/141-files/apollo11-earth.jpg\" width=400/>\n",
    "\n",
    "This lab, however, is not about the guidance systems or reflection on the\n",
    "smallness of the Earth in the vastness of the cosmos. Instead, we will examine\n",
    "an experiment that was conducted during the Apollo 15 mission, and use its\n",
    "results to validate that the experiment was filmed on the moon.\n",
    "\n",
    "# The Apollo 15 Physics Experiment\n",
    "\n",
    "In the late 1500's, the Italian mathematician Galileo Galilei demonstrated that\n",
    "the the acceleration due to gravity was independent of an object's mass... By\n",
    "repeatedly [dropping metal balls from the Leaning Tower of\n",
    "Pisa](https://en.wikipedia.org/wiki/Galileo%27s_Leaning_Tower_of_Pisa_experiment).\n",
    "\n",
    "Testing Galileo's Law of Free Fall breaks down somewhat when the objects aren't\n",
    "metal spheres. If you drop a hammer and a feather at the same time, they'll\n",
    "arrive at the ground at different times due to air resistence--the feather will\n",
    "float on the air, whereas the hammer will fall straight through it. \n",
    "\n",
    "On the moon, though, there is very little atmosphere to provide resistence...\n",
    "\n",
    "And so, on the Apollo 15 mission in 1971, astronaut David Scott dropped a\n",
    "feather and a hammer. The results are recorded below."
   ]
  },
  {
   "cell_type": "code",
   "execution_count": null,
   "metadata": {},
   "outputs": [],
   "source": [
    "from IPython.display import YouTubeVideo\n",
    "# The original URL is:\n",
    "#   https://www.youtube.com/watch?v=U7db6ZeLR5s\n",
    "YouTubeVideo(\"U7db6ZeLR5s\")"
   ]
  },
  {
   "cell_type": "markdown",
   "metadata": {},
   "source": [
    "If that was difficult to hear, the transcript is as follows:\n",
    "\n",
    "_Scott:_ Well, in my left hand, I have a feather; in my right hand, a hammer.\n",
    "And I guess one of the reasons we got here today was because of a gentleman\n",
    "named Galileo, a long time ago, who made a rather significant discovery about\n",
    "falling objects in gravity fields. And we thought where would be a better place\n",
    "to confirm his findings than on the Moon. And so we thought we'd try it here for\n",
    "you. The feather happens to be, appropriately, a falcon feather for our Falcon.\n",
    "And I'll drop the two of them here and, hopefully, they'll hit the ground at the\n",
    "same time.\n",
    "\n",
    "_Scott:_ How about that!\n",
    "\n",
    "_Allen:_ How about that! (Applause in Houston)\n",
    "\n",
    "_Scott:_ Which proves that Mr. Galileo was correct in his findings.\n",
    "\n",
    "## Analyzing the Footage\n",
    "\n",
    "Using this footage, we can confirm the hammer/feather drop did indeed take place\n",
    "on the moon, using Newton's law.\n",
    "\n",
    "Newtown's law of universal gravitation predicts that any object dropped near the\n",
    "surface of a planet should, after time $t$, fall\n",
    "\n",
    "$$ \\frac{1}{2} G \\frac{M}{R^2} t^2 \\text{ meters}$$\n",
    "\n",
    "where $G$ is a universal constant, $M$ is the mass of the planet in kilograms,\n",
    "and $R$ is the radius of the planet in meters.\n",
    "\n",
    "If we know $G$, $M$, and $R$, then we can predict how much an object will fall\n",
    "over any period of time.\n",
    "\n",
    "This film has been analyzed and, using the relative size of objects, it has been\n",
    "calculated that the hammer was dropped 113cm from the surface. Using frames as a\n",
    "measure of time, the hammer falls for 1.2 seconds (36 frames).\n",
    "\n",
    "In the following cells, let's calculate whether this video was filmed on the\n",
    "Moon, and validate the estimated height from which the hammer drops."
   ]
  },
  {
   "cell_type": "code",
   "execution_count": null,
   "metadata": {},
   "outputs": [],
   "source": [
    "# Estimated values from video.\n",
    "estimated_distance_m = 113 / 100\n",
    "fall_time_s = 1.2"
   ]
  },
  {
   "cell_type": "code",
   "execution_count": null,
   "metadata": {},
   "outputs": [],
   "source": [
    "# These are the set of constants that we know.\n",
    "gravity_constant = 6.674e-11\n",
    "moon_mass_kg = 7.34767309e22\n",
    "moon_radius_m = 1.737e6"
   ]
  },
  {
   "cell_type": "code",
   "execution_count": null,
   "metadata": {},
   "outputs": [],
   "source": [
    "# In this cell, predict the distance the hammer should've fallen.\n",
    "predicted_distance_m = 0 # CHANGE ME"
   ]
  },
  {
   "cell_type": "code",
   "execution_count": null,
   "metadata": {},
   "outputs": [],
   "source": [
    "# In this cell, compute the difference between the predicted and actual distance.\n",
    "difference = 0 # CHANGE ME\n",
    "difference"
   ]
  },
  {
   "cell_type": "code",
   "execution_count": null,
   "metadata": {},
   "outputs": [],
   "source": [
    "# Run this cell to check your answer.\n",
    "_ = ok.grade('q1')"
   ]
  },
  {
   "cell_type": "markdown",
   "metadata": {},
   "source": [
    "## Computing Velocity\n",
    "\n",
    "In the equation above, the $G\\frac{M}{R^2}$ term is computing the acceleration due to\n",
    "gravity per unit time. We can also use this value to compute the velocity at which the\n",
    "objects were traveling when they hit the surface of the moon, since we know how long\n",
    "they were falling for:\n",
    "$$ G\\frac{M}{R^2}t \\text{ meters/second} $$\n",
    "\n",
    "In the cell below, compute the velocity of the hammer when it struck the surface."
   ]
  },
  {
   "cell_type": "code",
   "execution_count": null,
   "metadata": {},
   "outputs": [],
   "source": [
    "hammer_v = 0 # CHANGE ME\n",
    "hammer_v"
   ]
  },
  {
   "cell_type": "code",
   "execution_count": null,
   "metadata": {},
   "outputs": [],
   "source": [
    "# Run this cell to check your answer.\n",
    "_ = ok.grade('q2')"
   ]
  },
  {
   "cell_type": "markdown",
   "metadata": {},
   "source": [
    "# Program Assignment\n",
    "\n",
    "For this assignment, you will write a program that computes the freefall time\n",
    "and impact velocity of an object dropped from planets of varying characteristics.\n",
    "\n",
    "To begin, edit the file named `time_to_drop.py` in this folder.\n",
    "\n",
    "Your program should accept the following inputs:\n",
    "  * `distance` the distance the object will be dropped.\n",
    "  * `planet_radius` the radius of the planet on which the object is dropped.\n",
    "  * `planet_mass` the mass of the planet on which the object is dropped.\n",
    "  \n",
    "The output of your program should be amount of time required for the object\n",
    "to drop on the given planet and distance, and the velocity at which the\n",
    "object impacts the surface.\n",
    "\n",
    "Example interaction:\n",
    "```\n",
    "Distance to drop: 91.44\n",
    "Radius of planet: 6.371e6\n",
    "Mass of planet: 5.9722e24\n",
    "It will take 4.315493222302034 seconds for the object to drop 91.44 meters.\n",
    "The object will be traveling 42.377543094007095 meters per second at impact.\n",
    "```\n",
    "\n",
    "Using your program, compute results like the following:\n",
    "  * How long would it take you to fall from 3 stories on Pluto?\n",
    "  * How long would it take to drop a football field's distance on Jupiter?"
   ]
  },
  {
   "cell_type": "code",
   "execution_count": null,
   "metadata": {},
   "outputs": [],
   "source": [
    "# Run this cell to run your program.\n",
    "%run time_to_drop.py"
   ]
  },
  {
   "cell_type": "markdown",
   "metadata": {},
   "source": [
    "In the cell below, enter the result of dropping a hammer from 100yds (91.44 meters) on Neptune.\n",
    "```\n",
    "Distance to drop: 91.44\n",
    "Radius of planet: 24.622e6\n",
    "Mass of planet: 1.024e26\n",
    "```"
   ]
  },
  {
   "cell_type": "code",
   "execution_count": null,
   "metadata": {},
   "outputs": [],
   "source": [
    "neptune_100yds_t = 0 # CHANGE ME\n",
    "neptune_100yds_v = 0 # CHANGE ME"
   ]
  },
  {
   "cell_type": "markdown",
   "metadata": {},
   "source": [
    "Are these results surprising (given the previously-computed value for Earth)? \n",
    "Why or why not? In the cell below, answer these questions."
   ]
  },
  {
   "cell_type": "markdown",
   "metadata": {},
   "source": [
    "Your answers here..."
   ]
  },
  {
   "cell_type": "code",
   "execution_count": null,
   "metadata": {},
   "outputs": [],
   "source": [
    "_ = ok.grade('q3')"
   ]
  },
  {
   "cell_type": "code",
   "execution_count": null,
   "metadata": {},
   "outputs": [],
   "source": [
    "# Submit as frequently as you like; I will only grade the last submission.\n",
    "_ = ok.submit()"
   ]
  },
  {
   "cell_type": "markdown",
   "metadata": {},
   "source": [
    "### Additional Challenges\n",
    "\n",
    "* Read [how to format strings in a print statement](http://interactivepython.org/runestone/static/pythonds/Introduction/InputandOutput.html)\n",
    "  Use the ideas to make your output be printed with a fixed number of decimal\n",
    "  places.\n",
    "* Also compute the force (in kinetic energy) with which the object strikes the \n",
    "  surface. This will require an additional input to your program. Now how do\n",
    "  the hammer and feather differ?\n",
    "\n",
    "Remember, you can submit as many times as you like!"
   ]
  }
 ],
 "metadata": {
  "kernelspec": {
   "display_name": "Python 3",
   "language": "python",
   "name": "python3"
  },
  "varInspector": {
   "cols": {
    "lenName": 16,
    "lenType": 16,
    "lenVar": 40
   },
   "kernels_config": {
    "python": {
     "delete_cmd_postfix": "",
     "delete_cmd_prefix": "del ",
     "library": "var_list.py",
     "varRefreshCmd": "print(var_dic_list())"
    },
    "r": {
     "delete_cmd_postfix": ") ",
     "delete_cmd_prefix": "rm(",
     "library": "var_list.r",
     "varRefreshCmd": "cat(var_dic_list()) "
    }
   },
   "types_to_exclude": [
    "module",
    "function",
    "builtin_function_or_method",
    "instance",
    "_Feature"
   ],
   "window_display": false
  }
 },
 "nbformat": 4,
 "nbformat_minor": 2
}
